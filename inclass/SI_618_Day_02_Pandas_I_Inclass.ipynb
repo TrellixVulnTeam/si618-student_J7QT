{
 "cells": [
  {
   "cell_type": "markdown",
   "metadata": {
    "colab_type": "text",
    "id": "view-in-github",
    "slideshow": {
     "slide_type": "slide"
    }
   },
   "source": [
    "<a href=\"https://colab.research.google.com/github/umsi-data-science/si370/blob/master/SI_370_Day_02_Pandas.ipynb\" target=\"_parent\"><img src=\"https://colab.research.google.com/assets/colab-badge.svg\" alt=\"Open In Colab\"/></a>"
   ]
  },
  {
   "cell_type": "markdown",
   "metadata": {
    "slideshow": {
     "slide_type": "slide"
    }
   },
   "source": [
    "# Pandas - in-class notebook"
   ]
  },
  {
   "cell_type": "code",
   "execution_count": null,
   "metadata": {
    "colab": {},
    "colab_type": "code",
    "id": "m4MJtio2XTFc"
   },
   "outputs": [],
   "source": [
    "# from https://www.kaggle.com/austinreese/craigslist-carstrucks-data\n",
    "# 5000 row sample"
   ]
  },
  {
   "cell_type": "code",
   "execution_count": null,
   "metadata": {},
   "outputs": [],
   "source": [
    "import pandas as pd"
   ]
  },
  {
   "cell_type": "code",
   "execution_count": null,
   "metadata": {
    "colab": {},
    "colab_type": "code",
    "id": "cxQ78NN3cFw_"
   },
   "outputs": [],
   "source": [
    "vehicles = pd.read_csv(\n",
    "    'https://raw.githubusercontent.com/umsi-data-science/si370/master/data/craigslist_vehicles_sample.csv')"
   ]
  },
  {
   "cell_type": "code",
   "execution_count": null,
   "metadata": {
    "colab": {
     "base_uri": "https://localhost:8080/",
     "height": 520
    },
    "colab_type": "code",
    "id": "dldu6e95QTta",
    "outputId": "0dd437c7-8c79-40ca-e2d5-32c788d1c2b0"
   },
   "outputs": [],
   "source": [
    "vehicles.head()"
   ]
  },
  {
   "cell_type": "markdown",
   "metadata": {
    "colab_type": "text",
    "id": "qcyUjOQ3VskV"
   },
   "source": [
    "## Exercise 1:\n",
    "The \"year\" column doesn't look right: the values are floats but they should be integers.  Use the \"astype()\" function to cast the values to 32-bit integers.  You might be tempted to do something like the following, which will result in an error.  Fix the error."
   ]
  },
  {
   "cell_type": "code",
   "execution_count": null,
   "metadata": {
    "colab": {
     "base_uri": "https://localhost:8080/",
     "height": 296
    },
    "colab_type": "code",
    "id": "-LUlnj8IRLYm",
    "outputId": "2b881ea9-ff41-4da8-af3a-540add2b0163"
   },
   "outputs": [],
   "source": [
    "# The following will result in an intentional error\n",
    "vehicles['year'] = vehicles['year'].astype('int32')"
   ]
  },
  {
   "cell_type": "code",
   "execution_count": 1,
   "metadata": {
    "colab": {},
    "colab_type": "code",
    "id": "TCKK5ha2WOeh"
   },
   "outputs": [],
   "source": [
    "# Insert your solution here"
   ]
  },
  {
   "cell_type": "markdown",
   "metadata": {
    "colab_type": "text",
    "id": "rOxduoAqU07f"
   },
   "source": [
    "## Exercise 2:\n",
    "\n",
    "What proportion of listings were from the Ann Arbor region?"
   ]
  },
  {
   "cell_type": "code",
   "execution_count": 2,
   "metadata": {
    "colab": {
     "base_uri": "https://localhost:8080/",
     "height": 33
    },
    "colab_type": "code",
    "id": "mU64NmxXQfkG",
    "outputId": "0327225a-0097-4634-da80-917ef3c09ab9"
   },
   "outputs": [],
   "source": [
    "# Insert your solution here"
   ]
  },
  {
   "cell_type": "markdown",
   "metadata": {
    "colab_type": "text",
    "id": "TjcFfzcFWv0g"
   },
   "source": [
    "## Exercise 3:\n",
    "List the top 3 manufacturers (note: when we say \"top N\", we typically mean the top N ranked from most common to least common)."
   ]
  },
  {
   "cell_type": "code",
   "execution_count": 3,
   "metadata": {
    "colab": {
     "base_uri": "https://localhost:8080/",
     "height": 635
    },
    "colab_type": "code",
    "id": "k6AtQ39CRDsQ",
    "outputId": "a668d212-19ce-42bd-f49d-dfa0782c1d08",
    "scrolled": true
   },
   "outputs": [],
   "source": [
    "# Insert your solution here"
   ]
  },
  {
   "cell_type": "markdown",
   "metadata": {},
   "source": [
    "## Exercise 4:\n",
    "What's the most popular (common) model? Make sure you include the manufacturer."
   ]
  },
  {
   "cell_type": "code",
   "execution_count": 4,
   "metadata": {},
   "outputs": [],
   "source": [
    "# Insert your solution here"
   ]
  },
  {
   "cell_type": "markdown",
   "metadata": {},
   "source": [
    "## Exercise 5:\n",
    "Each vehicle has a Vehicle Identification Number (VIN) that encodes a lot of information about the vehicle (see https://en.wikipedia.org/wiki/Vehicle_identification_number).  These are stored in the ```vin``` column of the ```vehicles``` dataframe. \n",
    "\n",
    "For example, the first digit tells you what region the vehicle was manufactured in. \n",
    "\n",
    "Write code that provides counts of vehicles manufactured in each of the following regions:\n",
    "Africa,\tAsia, Europe, North America, Oceania, and South America.\n",
    "\n",
    "If you encounter missing values, justify your approach to dealing with them."
   ]
  },
  {
   "cell_type": "code",
   "execution_count": 5,
   "metadata": {
    "colab": {
     "base_uri": "https://localhost:8080/",
     "height": 212
    },
    "colab_type": "code",
    "id": "73IL0knjZjcn",
    "outputId": "db80bd39-47db-4260-d9d4-bb4552f19e3b"
   },
   "outputs": [],
   "source": [
    "# Insert your solution here"
   ]
  },
  {
   "cell_type": "markdown",
   "metadata": {},
   "source": [
    "## Exercise 6:\n",
    "Based on the ```title_status``` column, what proportion of vehicles are considered \"clean\"?"
   ]
  },
  {
   "cell_type": "code",
   "execution_count": 6,
   "metadata": {
    "colab": {
     "base_uri": "https://localhost:8080/",
     "height": 131
    },
    "colab_type": "code",
    "id": "hvBj_e99aS1-",
    "outputId": "de8e74cb-e76d-4a5d-cac9-74d12761e85a"
   },
   "outputs": [],
   "source": [
    "# Insert your solution here"
   ]
  },
  {
   "cell_type": "markdown",
   "metadata": {},
   "source": [
    "## Exercise 7:\n",
    "Come up with your own question about the dataset and write code to answer it."
   ]
  },
  {
   "cell_type": "markdown",
   "metadata": {},
   "source": [
    "Insert your question here."
   ]
  },
  {
   "cell_type": "code",
   "execution_count": 7,
   "metadata": {},
   "outputs": [],
   "source": [
    "# Insert your solution here"
   ]
  },
  {
   "cell_type": "code",
   "execution_count": null,
   "metadata": {},
   "outputs": [],
   "source": []
  }
 ],
 "metadata": {
  "celltoolbar": "Slideshow",
  "colab": {
   "authorship_tag": "ABX9TyM5kAXrBa37NrA8pYQ7eA1J",
   "include_colab_link": true,
   "mount_file_id": "1xafXc7Dt_6T7zMhNEGMTH9suYXrQTgO8",
   "name": "370 Pandas I.ipynb",
   "provenance": []
  },
  "kernelspec": {
   "display_name": "Python 3",
   "language": "python",
   "name": "python3"
  },
  "language_info": {
   "codemirror_mode": {
    "name": "ipython",
    "version": 3
   },
   "file_extension": ".py",
   "mimetype": "text/x-python",
   "name": "python",
   "nbconvert_exporter": "python",
   "pygments_lexer": "ipython3",
   "version": "3.6.10"
  }
 },
 "nbformat": 4,
 "nbformat_minor": 4
}
