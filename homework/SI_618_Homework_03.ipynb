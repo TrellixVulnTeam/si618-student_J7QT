{
 "cells": [
  {
   "cell_type": "markdown",
   "metadata": {
    "colab_type": "text",
    "id": "UGqk3SzXsMR3"
   },
   "source": [
    "# SI 618 - Homework #3: Data Visualization\n",
    "\n",
    "Version 2021.04.16.1.CT"
   ]
  },
  {
   "cell_type": "markdown",
   "metadata": {
    "colab_type": "text",
    "id": "UiAKCrOR2gYt"
   },
   "source": [
    "## Background"
   ]
  },
  {
   "cell_type": "markdown",
   "metadata": {
    "colab_type": "text",
    "id": "5_xhHLHr2gYu"
   },
   "source": [
    "This homework assignment focuses on the visual analysis of the COVID-19 data avaiable here: https://covid19datahub.io/articles/api/python.html. A description of the dataset can be found at https://covid19datahub.io/articles/doc/data.html\n",
    "\n",
    "Your main task in this assignment is to explore the data *using the data manipulation, analysis, and visualization methods we covered in class* as well as those in the assigned readings.  You may need to consult pandas, matplotlib and seaborn documentation, as well as Stack Overflow, or other online resources.  "
   ]
  },
  {
   "cell_type": "markdown",
   "metadata": {
    "colab_type": "text",
    "id": "d5D_nveM2gYv"
   },
   "source": [
    "## Total Points and Rubric\n",
    "\n",
    "Each question is worth the same number of points.  Points will be allocated according to the following rubric:\n",
    "\n",
    "- 90-100%: Question is correctly and completely answered.  Answer consists of well-written code that conforms to [PEP 8](https://www.python.org/dev/peps/pep-0008/) guidelines and is \n",
    "accompanied by a written interpretation in a Markdown block.  Written interpretation does not contain spelling, grammar or stylistic errors (see https://faculty.washington.edu/heagerty/Courses/b572/public/StrunkWhite.pdf for a detailed specifications).  Minor problems, such as formatting, incorrect submissions, missing names, etc. will result in less than 100%.\n",
    "- 75-85% : Answer is mostly complete and correct; two or fewer noticeable omissions or errors.  Minor stylistic flaws, either in code or in \n",
    "written interpretation.\n",
    "- 50-70%: Answer has significant omissions or errors; Noticeable departure from PEP-8 guildelines and/or moderate spelling, grammar, or style issues\n",
    "in written interpretations.\n",
    "- 25-45%: Question is perfunctorily attempted.  Substantial parts are missing or incorrect.\n",
    "- 0 points: Question not attempted."
   ]
  },
  {
   "cell_type": "markdown",
   "metadata": {
    "colab_type": "text",
    "id": "mZBwJn1J2gYv"
   },
   "source": [
    "## Getting the data\n",
    "\n",
    "We used the COVID-19 datahub via R in SI 544 last semester and we will be using the python equivalent in this homework assignment.\n",
    "\n",
    "The following cell should install the most up-to-date version of the \n",
    "COVID-19 datahub:"
   ]
  },
  {
   "cell_type": "code",
   "execution_count": null,
   "metadata": {
    "colab": {
     "base_uri": "https://localhost:8080/",
     "height": 272
    },
    "colab_type": "code",
    "id": "evStchCv2gYw",
    "outputId": "db9bb133-58be-481a-f12e-5077489bb275"
   },
   "outputs": [],
   "source": [
    "pip install --upgrade covid19dh"
   ]
  },
  {
   "cell_type": "code",
   "execution_count": null,
   "metadata": {},
   "outputs": [],
   "source": [
    "%matplotlib inline"
   ]
  },
  {
   "cell_type": "markdown",
   "metadata": {
    "colab_type": "text",
    "id": "NYWBjZGA2gY0"
   },
   "source": [
    "### Restart the kernel to import the module and access the data"
   ]
  },
  {
   "cell_type": "code",
   "execution_count": 1,
   "metadata": {
    "colab": {},
    "colab_type": "code",
    "id": "wDXh1Odt2gY1"
   },
   "outputs": [],
   "source": [
    "from covid19dh import covid19"
   ]
  },
  {
   "cell_type": "markdown",
   "metadata": {
    "colab_type": "text",
    "id": "8EV1PilWtl0Z"
   },
   "source": [
    "## Answer the questions below. \n",
    "For each question, you should\n",
    "1. Write code that can help you answer the following questions, and\n",
    "2. Explain your answers in plain English. You should use complete sentences that would be understood by an educated professional who is not necessarily a data scientist (like a product manager)."
   ]
  },
  {
   "cell_type": "code",
   "execution_count": 2,
   "metadata": {
    "colab": {
     "base_uri": "https://localhost:8080/",
     "height": 70
    },
    "colab_type": "code",
    "id": "vjY0Nbka2gY4",
    "outputId": "d208de70-5f05-4b13-8ed2-cce106469c84"
   },
   "outputs": [],
   "source": [
    "# Load all the modules\n",
    "import pandas as pd\n",
    "import numpy as np\n",
    "import matplotlib.pyplot as plt\n",
    "import seaborn as sns\n",
    "%matplotlib inline"
   ]
  },
  {
   "cell_type": "markdown",
   "metadata": {
    "colab_type": "text",
    "id": "PfjXDtHoabcS"
   },
   "source": [
    "### <font color='#8B0000'> Q1 How many different countries are represented in the country-level data set?</font>\n",
    "- Refer to the documentation to call the covid19() function with appropriate parameters (https://covid19datahub.io/articles/api/python.html)"
   ]
  },
  {
   "cell_type": "code",
   "execution_count": null,
   "metadata": {
    "colab": {},
    "colab_type": "code",
    "id": "ttHwVC8ot5Ur"
   },
   "outputs": [],
   "source": [
    "# insert your code here"
   ]
  },
  {
   "cell_type": "markdown",
   "metadata": {
    "colab_type": "text",
    "id": "g1RAXO76uN-A"
   },
   "source": [
    "(Explain your answer; for example, what proportion of the world's countries are represented in the dataset?)"
   ]
  },
  {
   "cell_type": "markdown",
   "metadata": {
    "colab_type": "text",
    "id": "tbmL9-kta0o4"
   },
   "source": [
    "### <font color='#8B0000'> Q2 Create a line chart that shows the total number of cases over time.</font>"
   ]
  },
  {
   "cell_type": "code",
   "execution_count": null,
   "metadata": {
    "colab": {},
    "colab_type": "code",
    "id": "33LcHThyt5_N"
   },
   "outputs": [],
   "source": [
    "# put your code here"
   ]
  },
  {
   "cell_type": "markdown",
   "metadata": {
    "colab_type": "text",
    "id": "FD6-7-D-uWmX"
   },
   "source": [
    "(Use this space to explain what you see.)"
   ]
  },
  {
   "cell_type": "markdown",
   "metadata": {
    "colab_type": "text",
    "id": "0u5VM5ksbCTm"
   },
   "source": [
    "### <font color='#8B0000'>Q3 Use the country-level data set to create a histogram to:</font>\n",
    "- Show the distribution of values for the number of hospitalizations per 1000 people.  \n",
    "- Draw a red vertical line that shows the median value on the histogram."
   ]
  },
  {
   "cell_type": "code",
   "execution_count": null,
   "metadata": {
    "colab": {},
    "colab_type": "code",
    "id": "JtI8ru2at6ZU"
   },
   "outputs": [],
   "source": [
    "# put your code here"
   ]
  },
  {
   "cell_type": "markdown",
   "metadata": {
    "colab_type": "text",
    "id": "CCuxztg3uYPQ"
   },
   "source": [
    "(Use this space to explain what you see.)"
   ]
  },
  {
   "cell_type": "markdown",
   "metadata": {
    "colab_type": "text",
    "id": "2wH5ikUcbb16"
   },
   "source": [
    "### <font color='#8B0000'> Q4 Create a visualization that shows the  number of tests per day in the United States and indicate the median value on your visualization.</font>"
   ]
  },
  {
   "cell_type": "code",
   "execution_count": null,
   "metadata": {
    "colab": {},
    "colab_type": "code",
    "id": "EFwU7diL2gZI"
   },
   "outputs": [],
   "source": [
    "# put your code here"
   ]
  },
  {
   "cell_type": "markdown",
   "metadata": {
    "colab_type": "text",
    "id": "WlWYu2_5uY7K"
   },
   "source": [
    "(Use this space to explain your answers)"
   ]
  },
  {
   "cell_type": "markdown",
   "metadata": {
    "colab_type": "text",
    "id": "CVnHVSV12gZL"
   },
   "source": [
    "## For questions below:\n",
    "- You will have to call the covid19() function again **with parameters specific to Canada**. \n",
    "- Set the parameter <code>level = 2</code> in the call to covid19()."
   ]
  },
  {
   "cell_type": "code",
   "execution_count": 4,
   "metadata": {},
   "outputs": [
    {
     "name": "stdout",
     "output_type": "stream",
     "text": [
      "We have invested a lot of time and effort in creating COVID-19 Data Hub, please cite the following when using it:\n",
      "\n",
      "\t\u001b[1mGuidotti, E., Ardia, D., (2020), \"COVID-19 Data Hub\", Journal of Open Source Software 5(51):2376, doi: 10.21105/joss.02376.\u001b[0m\n",
      "\n",
      "A BibTeX entry for LaTeX users is\n",
      "\n",
      "\t@Article{,\n",
      "\t\ttitle = {COVID-19 Data Hub},\n",
      "\t\tyear = {2020},\n",
      "\t\tdoi = {10.21105/joss.02376},\n",
      "\t\tauthor = {Emanuele Guidotti and David Ardia},\n",
      "\t\tjournal = {Journal of Open Source Software},\n",
      "\t\tvolume = {5},\n",
      "\t\tnumber = {51},\n",
      "\t\tpages = {2376},\n",
      "\t}\n",
      "\n",
      "\u001b[33mTo hide this message use 'verbose = False'.\u001b[0m\n"
     ]
    }
   ],
   "source": [
    "canada,src = covid19(\"CAN\",level = 2)"
   ]
  },
  {
   "cell_type": "code",
   "execution_count": 5,
   "metadata": {},
   "outputs": [
    {
     "data": {
      "text/html": [
       "<div>\n",
       "<style scoped>\n",
       "    .dataframe tbody tr th:only-of-type {\n",
       "        vertical-align: middle;\n",
       "    }\n",
       "\n",
       "    .dataframe tbody tr th {\n",
       "        vertical-align: top;\n",
       "    }\n",
       "\n",
       "    .dataframe thead th {\n",
       "        text-align: right;\n",
       "    }\n",
       "</style>\n",
       "<table border=\"1\" class=\"dataframe\">\n",
       "  <thead>\n",
       "    <tr style=\"text-align: right;\">\n",
       "      <th></th>\n",
       "      <th>id</th>\n",
       "      <th>date</th>\n",
       "      <th>vaccines</th>\n",
       "      <th>tests</th>\n",
       "      <th>confirmed</th>\n",
       "      <th>recovered</th>\n",
       "      <th>deaths</th>\n",
       "      <th>hosp</th>\n",
       "      <th>vent</th>\n",
       "      <th>icu</th>\n",
       "      <th>...</th>\n",
       "      <th>administrative_area_level_1</th>\n",
       "      <th>administrative_area_level_2</th>\n",
       "      <th>administrative_area_level_3</th>\n",
       "      <th>latitude</th>\n",
       "      <th>longitude</th>\n",
       "      <th>key</th>\n",
       "      <th>key_google_mobility</th>\n",
       "      <th>key_apple_mobility</th>\n",
       "      <th>key_numeric</th>\n",
       "      <th>key_alpha_2</th>\n",
       "    </tr>\n",
       "  </thead>\n",
       "  <tbody>\n",
       "    <tr>\n",
       "      <th>1809</th>\n",
       "      <td>015d95fc</td>\n",
       "      <td>2020-03-11</td>\n",
       "      <td>NaN</td>\n",
       "      <td>6.0</td>\n",
       "      <td>0.0</td>\n",
       "      <td>NaN</td>\n",
       "      <td>0.0</td>\n",
       "      <td>NaN</td>\n",
       "      <td>NaN</td>\n",
       "      <td>NaN</td>\n",
       "      <td>...</td>\n",
       "      <td>Canada</td>\n",
       "      <td>Prince Edward Island</td>\n",
       "      <td>NaN</td>\n",
       "      <td>46.5107</td>\n",
       "      <td>-63.4168</td>\n",
       "      <td>NaN</td>\n",
       "      <td>Prince Edward Island</td>\n",
       "      <td>Prince Edward Island</td>\n",
       "      <td>NaN</td>\n",
       "      <td>NaN</td>\n",
       "    </tr>\n",
       "    <tr>\n",
       "      <th>1810</th>\n",
       "      <td>015d95fc</td>\n",
       "      <td>2020-03-12</td>\n",
       "      <td>NaN</td>\n",
       "      <td>6.0</td>\n",
       "      <td>0.0</td>\n",
       "      <td>NaN</td>\n",
       "      <td>0.0</td>\n",
       "      <td>NaN</td>\n",
       "      <td>NaN</td>\n",
       "      <td>NaN</td>\n",
       "      <td>...</td>\n",
       "      <td>Canada</td>\n",
       "      <td>Prince Edward Island</td>\n",
       "      <td>NaN</td>\n",
       "      <td>46.5107</td>\n",
       "      <td>-63.4168</td>\n",
       "      <td>NaN</td>\n",
       "      <td>Prince Edward Island</td>\n",
       "      <td>Prince Edward Island</td>\n",
       "      <td>NaN</td>\n",
       "      <td>NaN</td>\n",
       "    </tr>\n",
       "    <tr>\n",
       "      <th>1811</th>\n",
       "      <td>015d95fc</td>\n",
       "      <td>2020-03-13</td>\n",
       "      <td>NaN</td>\n",
       "      <td>6.0</td>\n",
       "      <td>0.0</td>\n",
       "      <td>NaN</td>\n",
       "      <td>0.0</td>\n",
       "      <td>NaN</td>\n",
       "      <td>NaN</td>\n",
       "      <td>NaN</td>\n",
       "      <td>...</td>\n",
       "      <td>Canada</td>\n",
       "      <td>Prince Edward Island</td>\n",
       "      <td>NaN</td>\n",
       "      <td>46.5107</td>\n",
       "      <td>-63.4168</td>\n",
       "      <td>NaN</td>\n",
       "      <td>Prince Edward Island</td>\n",
       "      <td>Prince Edward Island</td>\n",
       "      <td>NaN</td>\n",
       "      <td>NaN</td>\n",
       "    </tr>\n",
       "    <tr>\n",
       "      <th>1812</th>\n",
       "      <td>015d95fc</td>\n",
       "      <td>2020-03-14</td>\n",
       "      <td>NaN</td>\n",
       "      <td>6.0</td>\n",
       "      <td>0.0</td>\n",
       "      <td>NaN</td>\n",
       "      <td>0.0</td>\n",
       "      <td>NaN</td>\n",
       "      <td>NaN</td>\n",
       "      <td>NaN</td>\n",
       "      <td>...</td>\n",
       "      <td>Canada</td>\n",
       "      <td>Prince Edward Island</td>\n",
       "      <td>NaN</td>\n",
       "      <td>46.5107</td>\n",
       "      <td>-63.4168</td>\n",
       "      <td>NaN</td>\n",
       "      <td>Prince Edward Island</td>\n",
       "      <td>Prince Edward Island</td>\n",
       "      <td>NaN</td>\n",
       "      <td>NaN</td>\n",
       "    </tr>\n",
       "    <tr>\n",
       "      <th>1813</th>\n",
       "      <td>015d95fc</td>\n",
       "      <td>2020-03-15</td>\n",
       "      <td>NaN</td>\n",
       "      <td>6.0</td>\n",
       "      <td>1.0</td>\n",
       "      <td>NaN</td>\n",
       "      <td>0.0</td>\n",
       "      <td>NaN</td>\n",
       "      <td>NaN</td>\n",
       "      <td>NaN</td>\n",
       "      <td>...</td>\n",
       "      <td>Canada</td>\n",
       "      <td>Prince Edward Island</td>\n",
       "      <td>NaN</td>\n",
       "      <td>46.5107</td>\n",
       "      <td>-63.4168</td>\n",
       "      <td>NaN</td>\n",
       "      <td>Prince Edward Island</td>\n",
       "      <td>Prince Edward Island</td>\n",
       "      <td>NaN</td>\n",
       "      <td>NaN</td>\n",
       "    </tr>\n",
       "  </tbody>\n",
       "</table>\n",
       "<p>5 rows × 38 columns</p>\n",
       "</div>"
      ],
      "text/plain": [
       "            id       date  vaccines  tests  confirmed  recovered  deaths  \\\n",
       "1809  015d95fc 2020-03-11       NaN    6.0        0.0        NaN     0.0   \n",
       "1810  015d95fc 2020-03-12       NaN    6.0        0.0        NaN     0.0   \n",
       "1811  015d95fc 2020-03-13       NaN    6.0        0.0        NaN     0.0   \n",
       "1812  015d95fc 2020-03-14       NaN    6.0        0.0        NaN     0.0   \n",
       "1813  015d95fc 2020-03-15       NaN    6.0        1.0        NaN     0.0   \n",
       "\n",
       "      hosp  vent  icu  ...  administrative_area_level_1  \\\n",
       "1809   NaN   NaN  NaN  ...                       Canada   \n",
       "1810   NaN   NaN  NaN  ...                       Canada   \n",
       "1811   NaN   NaN  NaN  ...                       Canada   \n",
       "1812   NaN   NaN  NaN  ...                       Canada   \n",
       "1813   NaN   NaN  NaN  ...                       Canada   \n",
       "\n",
       "      administrative_area_level_2  administrative_area_level_3  latitude  \\\n",
       "1809         Prince Edward Island                          NaN   46.5107   \n",
       "1810         Prince Edward Island                          NaN   46.5107   \n",
       "1811         Prince Edward Island                          NaN   46.5107   \n",
       "1812         Prince Edward Island                          NaN   46.5107   \n",
       "1813         Prince Edward Island                          NaN   46.5107   \n",
       "\n",
       "      longitude  key   key_google_mobility    key_apple_mobility  key_numeric  \\\n",
       "1809   -63.4168  NaN  Prince Edward Island  Prince Edward Island          NaN   \n",
       "1810   -63.4168  NaN  Prince Edward Island  Prince Edward Island          NaN   \n",
       "1811   -63.4168  NaN  Prince Edward Island  Prince Edward Island          NaN   \n",
       "1812   -63.4168  NaN  Prince Edward Island  Prince Edward Island          NaN   \n",
       "1813   -63.4168  NaN  Prince Edward Island  Prince Edward Island          NaN   \n",
       "\n",
       "      key_alpha_2  \n",
       "1809          NaN  \n",
       "1810          NaN  \n",
       "1811          NaN  \n",
       "1812          NaN  \n",
       "1813          NaN  \n",
       "\n",
       "[5 rows x 38 columns]"
      ]
     },
     "execution_count": 5,
     "metadata": {},
     "output_type": "execute_result"
    }
   ],
   "source": [
    "canada.head()"
   ]
  },
  {
   "cell_type": "markdown",
   "metadata": {
    "colab_type": "text",
    "id": "ggXQN25h2gZM"
   },
   "source": [
    "### <font color='#8B0000'> Q5 Create a bar plot to show the number of tests conducted in each province.  </font>\n",
    "Order the provinces from west to east (use your best judgement for cases where the order is unclear).  Which Canadian province that has conducted the most tests?"
   ]
  },
  {
   "cell_type": "code",
   "execution_count": null,
   "metadata": {
    "colab": {},
    "colab_type": "code",
    "id": "AtRQgtZL2gZM"
   },
   "outputs": [],
   "source": [
    "# put your code here"
   ]
  },
  {
   "cell_type": "markdown",
   "metadata": {
    "colab_type": "text",
    "id": "YEfyfQtu2gZQ"
   },
   "source": [
    "(Use this space to explain your answers)"
   ]
  },
  {
   "cell_type": "markdown",
   "metadata": {
    "colab_type": "text",
    "id": "Skkue0wv2gZQ"
   },
   "source": [
    "### <font color='#8B0000'> Q6 Create a bar plot that shows the number of tests conducted per 1000 people for each province in Canada.</font>\n",
    "How would you interpret the results of this bar plot given the results of bar plot in question 5. "
   ]
  },
  {
   "cell_type": "code",
   "execution_count": null,
   "metadata": {
    "colab": {},
    "colab_type": "code",
    "id": "J3sgn95f2gZQ"
   },
   "outputs": [],
   "source": [
    "# put your code here"
   ]
  },
  {
   "cell_type": "markdown",
   "metadata": {
    "colab_type": "text",
    "id": "OeTYYDMO2gZT"
   },
   "source": [
    "(Use this space to explain your answers)"
   ]
  },
  {
   "cell_type": "markdown",
   "metadata": {
    "colab_type": "text",
    "id": "kF2a-RsJ2gZU"
   },
   "source": [
    "### <font color='#8B0000'> Q7 Create a visualization that shows which Canadian province has the highest recovery rate. </font>\n",
    "Recovery rate is calculated as the number of recovered cases divided by the number of confirmed cases."
   ]
  },
  {
   "cell_type": "code",
   "execution_count": null,
   "metadata": {
    "colab": {},
    "colab_type": "code",
    "id": "JpzjGH8S5gIy"
   },
   "outputs": [],
   "source": [
    "# put your code here"
   ]
  },
  {
   "cell_type": "markdown",
   "metadata": {
    "colab_type": "text",
    "id": "Au4YdEij2gZU"
   },
   "source": [
    "(Use this space to explain your answers)"
   ]
  },
  {
   "cell_type": "markdown",
   "metadata": {
    "colab_type": "text",
    "id": "1ypeZjWN2gZV"
   },
   "source": [
    "### <font color='#8B0000'> Q8 Create visualizations that show the impacts of _at least_ three policy measures on mortality or infection rates.</font>\n",
    "\n",
    "\n",
    "See https://covid19datahub.io/articles/doc/data.html for descriptions of the available policy measures.  You are not limited to histograms and bar charts.  Remember that you can use subplots!\n"
   ]
  },
  {
   "cell_type": "code",
   "execution_count": null,
   "metadata": {
    "colab": {},
    "colab_type": "code",
    "id": "-7-V1pJ52gZW"
   },
   "outputs": [],
   "source": [
    "# put your code here"
   ]
  },
  {
   "cell_type": "markdown",
   "metadata": {
    "colab_type": "text",
    "id": "83mPoFFx2gZY"
   },
   "source": [
    "(Use this space to explain your answers)"
   ]
  },
  {
   "cell_type": "markdown",
   "metadata": {
    "colab_type": "text",
    "id": "ezPjmQTU2gZY"
   },
   "source": [
    "## <font color='green'> Please submit your completed notebook in .IPYNB and .HTML formats via Canvas </font>"
   ]
  }
 ],
 "metadata": {
  "colab": {
   "collapsed_sections": [],
   "name": "370_Homework_2.ipynb",
   "provenance": []
  },
  "kernelspec": {
   "display_name": "Python 3",
   "language": "python",
   "name": "python3"
  },
  "language_info": {
   "codemirror_mode": {
    "name": "ipython",
    "version": 3
   },
   "file_extension": ".py",
   "mimetype": "text/x-python",
   "name": "python",
   "nbconvert_exporter": "python",
   "pygments_lexer": "ipython3",
   "version": "3.6.11"
  }
 },
 "nbformat": 4,
 "nbformat_minor": 1
}
